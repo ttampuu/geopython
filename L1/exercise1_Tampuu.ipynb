{
 "cells": [
  {
   "cell_type": "code",
   "execution_count": 1,
   "metadata": {},
   "outputs": [
    {
     "name": "stdout",
     "output_type": "stream",
     "text": [
      "<class 'shapely.geometry.point.Point'>\n",
      "POINT (2 2)\n",
      "<class 'shapely.geometry.point.Point'>\n",
      "POINT (4 4)\n",
      "<class 'shapely.geometry.point.Point'>\n",
      "POINT (6 6)\n"
     ]
    },
    {
     "data": {
      "image/svg+xml": [
       "<svg xmlns=\"http://www.w3.org/2000/svg\" xmlns:xlink=\"http://www.w3.org/1999/xlink\" width=\"100.0\" height=\"100.0\" viewBox=\"5.0 5.0 2.0 2.0\" preserveAspectRatio=\"xMinYMin meet\"><g transform=\"matrix(1,0,0,-1,0,12.0)\"><circle cx=\"6.0\" cy=\"6.0\" r=\"0.06\" stroke=\"#555555\" stroke-width=\"0.02\" fill=\"#66cc99\" opacity=\"0.6\" /></g></svg>"
      ],
      "text/plain": [
       "<shapely.geometry.point.Point at 0x17565774ef0>"
      ]
     },
     "execution_count": 1,
     "metadata": {},
     "output_type": "execute_result"
    }
   ],
   "source": [
    "#exercise 1.1.\n",
    "from shapely.geometry import Point, LineString, Polygon\n",
    "\n",
    "def createPointGeomd(x_coord, y_coord):\n",
    "    point = Point(x_coord, y_coord)\n",
    "    print(type(point))\n",
    "    print(point)\n",
    "    #display(point)\n",
    "    return(point)\n",
    "\n",
    "x_coord=2\n",
    "y_coord=2\n",
    "createPointGeomd(x_coord, y_coord)\n",
    "\n",
    "x_coord=4\n",
    "y_coord=4\n",
    "createPointGeomd(x_coord, y_coord)\n",
    "\n",
    "x_coord=6\n",
    "y_coord=6\n",
    "createPointGeomd(x_coord, y_coord)"
   ]
  },
  {
   "cell_type": "code",
   "execution_count": 22,
   "metadata": {},
   "outputs": [
    {
     "data": {
      "image/svg+xml": [
       "<svg xmlns=\"http://www.w3.org/2000/svg\" xmlns:xlink=\"http://www.w3.org/1999/xlink\" width=\"100.0\" height=\"100.0\" viewBox=\"1.84 1.84 4.32 4.32\" preserveAspectRatio=\"xMinYMin meet\"><g transform=\"matrix(1,0,0,-1,0,8.0)\"><polyline fill=\"none\" stroke=\"#66cc99\" stroke-width=\"0.0864\" points=\"2.0,2.0 4.0,4.0 6.0,6.0\" opacity=\"0.8\" /></g></svg>"
      ],
      "text/plain": [
       "<shapely.geometry.linestring.LineString at 0x17566c00ba8>"
      ]
     },
     "metadata": {},
     "output_type": "display_data"
    },
    {
     "name": "stdout",
     "output_type": "stream",
     "text": [
      "Objects' class type in input list: \n",
      "<class 'tuple'>\n",
      "LINESTRING (2 2, 4 4, 6 6)\n",
      "Input list does not contain Shapely Points\n"
     ]
    },
    {
     "data": {
      "image/svg+xml": [
       "<svg xmlns=\"http://www.w3.org/2000/svg\" xmlns:xlink=\"http://www.w3.org/1999/xlink\" width=\"100.0\" height=\"100.0\" viewBox=\"1.84 1.84 4.32 4.32\" preserveAspectRatio=\"xMinYMin meet\"><g transform=\"matrix(1,0,0,-1,0,8.0)\"><polyline fill=\"none\" stroke=\"#66cc99\" stroke-width=\"0.0864\" points=\"2.0,2.0 4.0,4.0 6.0,6.0\" opacity=\"0.8\" /></g></svg>"
      ],
      "text/plain": [
       "<shapely.geometry.linestring.LineString at 0x175657a4b70>"
      ]
     },
     "metadata": {},
     "output_type": "display_data"
    },
    {
     "name": "stdout",
     "output_type": "stream",
     "text": [
      "Objects' class type in input list: \n",
      "<class 'shapely.geometry.point.Point'>\n",
      "LINESTRING (2 2, 4 4, 6 6)\n",
      "Input list contains Shapely Points\n"
     ]
    },
    {
     "data": {
      "image/svg+xml": [
       "<svg xmlns=\"http://www.w3.org/2000/svg\" xmlns:xlink=\"http://www.w3.org/1999/xlink\" width=\"100.0\" height=\"100.0\" viewBox=\"1.84 1.84 4.32 4.32\" preserveAspectRatio=\"xMinYMin meet\"><g transform=\"matrix(1,0,0,-1,0,8.0)\"><polyline fill=\"none\" stroke=\"#66cc99\" stroke-width=\"0.0864\" points=\"2.0,2.0 4.0,4.0 6.0,6.0\" opacity=\"0.8\" /></g></svg>"
      ],
      "text/plain": [
       "<shapely.geometry.linestring.LineString at 0x175657a4b70>"
      ]
     },
     "execution_count": 22,
     "metadata": {},
     "output_type": "execute_result"
    }
   ],
   "source": [
    "#exercise 1.2.\n",
    "from shapely.geometry import Point, LineString, Polygon\n",
    "\n",
    "def createLineGeom(list):\n",
    "    line = LineString(list)\n",
    "    display(line)\n",
    "    print(\"Objects' class type in input list: \"),print(type(point1)) #the check what the input object's class is\n",
    "    #print('Output line class type: '),print(type(line))\n",
    "    print(line)\n",
    "    if isinstance(list[0], Point):\n",
    "        print(\"Input list contains Shapely Points\")\n",
    "    else:\n",
    "        print(\"Input list does not contain Shapely Points\")\n",
    "    return(line)\n",
    "\n",
    "#I version\n",
    "point1 = (2, 2)\n",
    "point2 = (4, 4)\n",
    "point3 = (6, 6)\n",
    "\n",
    "list = [point1, point2, point3]\n",
    "\n",
    "createLineGeom(list)\n",
    "\n",
    "# II version\n",
    "point1 = Point(2, 2)\n",
    "point2 = Point(4, 4)\n",
    "point3 = Point(6, 6)\n",
    "\n",
    "list = [point1, point2, point3]\n",
    "  \n",
    "createLineGeom(list)\n",
    "\n",
    "#III version \n",
    "#point1 = [2, 2]\n",
    "#point2 = [4, 4]\n",
    "#point3 = [6, 6]\n",
    "\n",
    "#list = [point1, point2, point3]\n",
    "\n",
    "#createLineGeom(list)"
   ]
  },
  {
   "cell_type": "code",
   "execution_count": 19,
   "metadata": {},
   "outputs": [
    {
     "name": "stdout",
     "output_type": "stream",
     "text": [
      "POLYGON ((2 -2, 4 -4, 6 6, 2 -2))\n"
     ]
    },
    {
     "data": {
      "image/svg+xml": [
       "<svg xmlns=\"http://www.w3.org/2000/svg\" xmlns:xlink=\"http://www.w3.org/1999/xlink\" width=\"100.0\" height=\"100.0\" viewBox=\"1.6 -4.4 4.800000000000001 10.8\" preserveAspectRatio=\"xMinYMin meet\"><g transform=\"matrix(1,0,0,-1,0,2.0)\"><path fill-rule=\"evenodd\" fill=\"#66cc99\" stroke=\"#555555\" stroke-width=\"0.21600000000000003\" opacity=\"0.6\" d=\"M 2.0,-2.0 L 4.0,-4.0 L 6.0,6.0 L 2.0,-2.0 z\" /></g></svg>"
      ],
      "text/plain": [
       "<shapely.geometry.polygon.Polygon at 0x17566c96c88>"
      ]
     },
     "metadata": {},
     "output_type": "display_data"
    },
    {
     "name": "stdout",
     "output_type": "stream",
     "text": [
      "from coordinate tuples\n",
      "POLYGON ((2 -2, 4 -4, 6 6, 2 -2))\n"
     ]
    },
    {
     "data": {
      "image/svg+xml": [
       "<svg xmlns=\"http://www.w3.org/2000/svg\" xmlns:xlink=\"http://www.w3.org/1999/xlink\" width=\"100.0\" height=\"100.0\" viewBox=\"1.6 -4.4 4.800000000000001 10.8\" preserveAspectRatio=\"xMinYMin meet\"><g transform=\"matrix(1,0,0,-1,0,2.0)\"><path fill-rule=\"evenodd\" fill=\"#66cc99\" stroke=\"#555555\" stroke-width=\"0.21600000000000003\" opacity=\"0.6\" d=\"M 2.0,-2.0 L 4.0,-4.0 L 6.0,6.0 L 2.0,-2.0 z\" /></g></svg>"
      ],
      "text/plain": [
       "<shapely.geometry.polygon.Polygon at 0x175657a4860>"
      ]
     },
     "metadata": {},
     "output_type": "display_data"
    },
    {
     "name": "stdout",
     "output_type": "stream",
     "text": [
      "from point objects\n"
     ]
    },
    {
     "data": {
      "image/svg+xml": [
       "<svg xmlns=\"http://www.w3.org/2000/svg\" xmlns:xlink=\"http://www.w3.org/1999/xlink\" width=\"100.0\" height=\"100.0\" viewBox=\"1.6 -4.4 4.800000000000001 10.8\" preserveAspectRatio=\"xMinYMin meet\"><g transform=\"matrix(1,0,0,-1,0,2.0)\"><path fill-rule=\"evenodd\" fill=\"#66cc99\" stroke=\"#555555\" stroke-width=\"0.21600000000000003\" opacity=\"0.6\" d=\"M 2.0,-2.0 L 4.0,-4.0 L 6.0,6.0 L 2.0,-2.0 z\" /></g></svg>"
      ],
      "text/plain": [
       "<shapely.geometry.polygon.Polygon at 0x175657a4860>"
      ]
     },
     "execution_count": 19,
     "metadata": {},
     "output_type": "execute_result"
    }
   ],
   "source": [
    "#excercise 1.3.\n",
    "from shapely.geometry import Point, LineString, Polygon\n",
    "\n",
    "def createPointGeomd(list):\n",
    "    if isinstance(list[0], Point):\n",
    "        poly = Polygon([[p.x, p.y] for p in list])\n",
    "        print(poly)\n",
    "        display(poly)\n",
    "        print(\"from point objects\")\n",
    "    else: \n",
    "        poly = Polygon(list)\n",
    "        print(poly)\n",
    "        display(poly)\n",
    "        print(\"from coordinate tuples\")\n",
    "    return(poly)\n",
    "\n",
    "#version I\n",
    "point1 = (2, -2)\n",
    "point2 = (4, -4)\n",
    "point3 = (6, 6)\n",
    "\n",
    "list = [point1, point2, point3]\n",
    "\n",
    "createPointGeomd(list)\n",
    "\n",
    "#version II\n",
    "point1 = Point(2, -2)\n",
    "point2 = Point(4, -4)\n",
    "point3 = Point(6, 6)\n",
    "\n",
    "list = [point1, point2, point3]\n",
    "\n",
    "createPointGeomd(list)"
   ]
  },
  {
   "cell_type": "code",
   "execution_count": 31,
   "metadata": {},
   "outputs": [
    {
     "name": "stdout",
     "output_type": "stream",
     "text": [
      "LINESTRING (2 -2, 4 -4, 6 6)\n",
      "POINT (4.565741454089335 0.1314829081786701)\n"
     ]
    },
    {
     "data": {
      "image/svg+xml": [
       "<svg xmlns=\"http://www.w3.org/2000/svg\" xmlns:xlink=\"http://www.w3.org/1999/xlink\" width=\"100.0\" height=\"100.0\" viewBox=\"1.6 -4.4 4.800000000000001 10.8\" preserveAspectRatio=\"xMinYMin meet\"><g transform=\"matrix(1,0,0,-1,0,2.0)\"><polyline fill=\"none\" stroke=\"#66cc99\" stroke-width=\"0.21600000000000003\" points=\"2.0,-2.0 4.0,-4.0 6.0,6.0\" opacity=\"0.8\" /></g></svg>"
      ],
      "text/plain": [
       "<shapely.geometry.linestring.LineString at 0x17566caf2b0>"
      ]
     },
     "metadata": {},
     "output_type": "display_data"
    },
    {
     "name": "stdout",
     "output_type": "stream",
     "text": [
      "POINT (4 -0)\n"
     ]
    },
    {
     "data": {
      "image/svg+xml": [
       "<svg xmlns=\"http://www.w3.org/2000/svg\" xmlns:xlink=\"http://www.w3.org/1999/xlink\" width=\"100.0\" height=\"100.0\" viewBox=\"1.6 -4.4 4.800000000000001 10.8\" preserveAspectRatio=\"xMinYMin meet\"><g transform=\"matrix(1,0,0,-1,0,2.0)\"><path fill-rule=\"evenodd\" fill=\"#66cc99\" stroke=\"#555555\" stroke-width=\"0.21600000000000003\" opacity=\"0.6\" d=\"M 2.0,-2.0 L 4.0,-4.0 L 6.0,6.0 L 2.0,-2.0 z\" /></g></svg>"
      ],
      "text/plain": [
       "<shapely.geometry.polygon.Polygon at 0x17566c00160>"
      ]
     },
     "metadata": {},
     "output_type": "display_data"
    },
    {
     "data": {
      "image/svg+xml": [
       "<svg xmlns=\"http://www.w3.org/2000/svg\" xmlns:xlink=\"http://www.w3.org/1999/xlink\" width=\"100.0\" height=\"100.0\" viewBox=\"3.0 -1.0 2.0 2.0\" preserveAspectRatio=\"xMinYMin meet\"><g transform=\"matrix(1,0,0,-1,0,0.0)\"><circle cx=\"4.0\" cy=\"-0.0\" r=\"0.06\" stroke=\"#555555\" stroke-width=\"0.02\" fill=\"#66cc99\" opacity=\"0.6\" /></g></svg>"
      ],
      "text/plain": [
       "<shapely.geometry.point.Point at 0x17566caf518>"
      ]
     },
     "execution_count": 31,
     "metadata": {},
     "output_type": "execute_result"
    }
   ],
   "source": [
    "#excercise 2.1\n",
    "from shapely.geometry import Point, LineString, Polygon\n",
    "#input sharply geometry object must be a line or polygon (not a singe point) - it means the imput must be a list of coordinates\n",
    "#organised into a line or polygon as (AttributeError: 'tuple' object has no attribute 'centroid');\n",
    "#centroid form line and polygon gives different result\n",
    "\n",
    "point1 = (2, -2)\n",
    "point2 = (4, -4)\n",
    "point3 = (6, 6)\n",
    "list = [point1, point2, point3]\n",
    "\n",
    "def getCentroid(input):\n",
    "    if isinstance(input, LineString):\n",
    "        print(input)\n",
    "        line_centroid = input.centroid\n",
    "        print(line_centroid)\n",
    "        display(input)\n",
    "        return(line_centroid)\n",
    "    else:\n",
    "        poly_centroid = input.centroid\n",
    "        print(poly_centroid)\n",
    "        display(input)\n",
    "        return(poly_centroid)\n",
    "    \n",
    "#version I   \n",
    "input = LineString(list) \n",
    "    \n",
    "getCentroid(input)\n",
    "\n",
    "#version II\n",
    "input = Polygon(list)\n",
    "\n",
    "getCentroid(input)"
   ]
  },
  {
   "cell_type": "code",
   "execution_count": 30,
   "metadata": {},
   "outputs": [
    {
     "data": {
      "text/plain": [
       "12.0"
      ]
     },
     "execution_count": 30,
     "metadata": {},
     "output_type": "execute_result"
    }
   ],
   "source": [
    "#excercise 2.2\n",
    "def getArea(poly):\n",
    "    poly_area = poly.area\n",
    "    return(poly_area)\n",
    "\n",
    "point1 = (2, -2)\n",
    "point2 = (4, -4)\n",
    "point3 = (6, 6)\n",
    "list = [point1, point2, point3]\n",
    "poly = Polygon(list)\n",
    "\n",
    "getArea(poly)"
   ]
  },
  {
   "cell_type": "code",
   "execution_count": 2,
   "metadata": {},
   "outputs": [
    {
     "data": {
      "image/svg+xml": [
       "<svg xmlns=\"http://www.w3.org/2000/svg\" xmlns:xlink=\"http://www.w3.org/1999/xlink\" width=\"100.0\" height=\"100.0\" viewBox=\"1.6 -4.4 4.800000000000001 10.8\" preserveAspectRatio=\"xMinYMin meet\"><g transform=\"matrix(1,0,0,-1,0,2.0)\"><polyline fill=\"none\" stroke=\"#66cc99\" stroke-width=\"0.21600000000000003\" points=\"2.0,-2.0 4.0,-4.0 6.0,6.0\" opacity=\"0.8\" /></g></svg>"
      ],
      "text/plain": [
       "<shapely.geometry.linestring.LineString at 0x23edf07b7f0>"
      ]
     },
     "metadata": {},
     "output_type": "display_data"
    },
    {
     "name": "stdout",
     "output_type": "stream",
     "text": [
      "LINESTRING (2 -2, 4 -4, 6 6)\n",
      "Lenght of the line is 13.026466151931759\n"
     ]
    },
    {
     "data": {
      "image/svg+xml": [
       "<svg xmlns=\"http://www.w3.org/2000/svg\" xmlns:xlink=\"http://www.w3.org/1999/xlink\" width=\"100.0\" height=\"100.0\" viewBox=\"1.6 -4.4 4.800000000000001 10.8\" preserveAspectRatio=\"xMinYMin meet\"><g transform=\"matrix(1,0,0,-1,0,2.0)\"><path fill-rule=\"evenodd\" fill=\"#66cc99\" stroke=\"#555555\" stroke-width=\"0.21600000000000003\" opacity=\"0.6\" d=\"M 2.0,-2.0 L 4.0,-4.0 L 6.0,6.0 L 2.0,-2.0 z\" /></g></svg>"
      ],
      "text/plain": [
       "<shapely.geometry.polygon.Polygon at 0x23eddb8c160>"
      ]
     },
     "metadata": {},
     "output_type": "display_data"
    },
    {
     "name": "stdout",
     "output_type": "stream",
     "text": [
      "POLYGON ((2 -2, 4 -4, 6 6, 2 -2))\n",
      "Length of the exterior ring is 21.970738061930916\n",
      "\n",
      "Error: LineString or Polygon geometries required!\n"
     ]
    }
   ],
   "source": [
    "#excercise 2.3\n",
    "from shapely.geometry import Point, LineString, Polygon\n",
    "\n",
    "point1 = (2, -2)\n",
    "point2 = (4, -4)\n",
    "point3 = (6, 6)\n",
    "list = [point1, point2, point3]\n",
    "\n",
    "def getLength(input):\n",
    "    if isinstance(input, LineString):\n",
    "        display(input)\n",
    "        print(input)\n",
    "        l_length = input.length\n",
    "        print(\"Lenght of the line is \"+str(l_length))\n",
    "        return(l_length)\n",
    "    elif isinstance(input, Polygon):        \n",
    "        display(input)\n",
    "        print(input)        \n",
    "        poly_ext = input.exterior\n",
    "        poly_ext_length = poly_ext.length\n",
    "        print(\"Length of the exterior ring is \"+str(poly_ext_length))\n",
    "        return(poly_ext_length)\n",
    "    else:\n",
    "        print(\"\\nError: LineString or Polygon geometries required!\")\n",
    "    \n",
    "#version I \n",
    "\n",
    "input = LineString(list) \n",
    "    \n",
    "getLength(input)\n",
    "\n",
    "#version II\n",
    "\n",
    "input = Polygon(list)\n",
    "\n",
    "getLength(input)\n",
    "\n",
    "#version III\n",
    "\n",
    "input=list\n",
    "getLength(input)"
   ]
  },
  {
   "cell_type": "code",
   "execution_count": 43,
   "metadata": {},
   "outputs": [
    {
     "name": "stdout",
     "output_type": "stream",
     "text": [
      "   from_id    to_id      fromid_toid  route_number     at     from_x  \\\n",
      "0  5861326  5785640  5861326_5785640             1  08:10  24.970438   \n",
      "1  5861326  5785641  5861326_5785641             1  08:10  24.970438   \n",
      "2  5861326  5785642  5861326_5785642             1  08:10  24.970438   \n",
      "3  5861326  5785643  5861326_5785643             1  08:10  24.970438   \n",
      "4  5861326  5787544  5861326_5787544             1  08:10  24.970438   \n",
      "\n",
      "      from_y       to_x       to_y  total_route_time  route_time  \\\n",
      "0  60.311917  24.856034  60.399941             125.0        99.0   \n",
      "1  60.311917  24.860568  60.400014             123.0       102.0   \n",
      "2  60.311917  24.865102  60.400086             125.0       103.0   \n",
      "3  60.311917  24.869636  60.400159             129.0       107.0   \n",
      "4  60.311917  24.842582  60.397478             118.0        92.0   \n",
      "\n",
      "   route_distance  route_total_lines                    orig_points  \\\n",
      "0         22917.6                2.0  POINT (24.9704379 60.3119173)   \n",
      "1         23123.5                2.0  POINT (24.9704379 60.3119173)   \n",
      "2         23241.3                2.0  POINT (24.9704379 60.3119173)   \n",
      "3         23534.2                2.0  POINT (24.9704379 60.3119173)   \n",
      "4         22428.2                2.0  POINT (24.9704379 60.3119173)   \n",
      "\n",
      "                            dest_points  \n",
      "0         POINT (24.8560344 60.3999406)  \n",
      "1         POINT (24.8605682 60.4000135)  \n",
      "2          POINT (24.865102 60.4000863)  \n",
      "3         POINT (24.8696358 60.4001589)  \n",
      "4  POINT (24.8425817 60.39747779999999)  \n"
     ]
    }
   ],
   "source": [
    "#excercise 3\n",
    "\n",
    "import pandas as pd\n",
    "df = pd.read_csv('travelTimes_2015_Helsinki.txt', sep=';', encoding='latin1')\n",
    "\n",
    "#print(df.head(3))\n",
    "def initial_location(row):\n",
    "    field_value1 = row['from_x']\n",
    "    field_value2 = row['from_y']\n",
    "    co_point1=Point(field_value1, field_value2)\n",
    "    return co_point1\n",
    "\n",
    "df['orig_points'] = df.apply(initial_location, axis=1)\n",
    "\n",
    "#print(df.head(3))\n",
    "\n",
    "def destination(row):\n",
    "    field_value3 = row['to_x']\n",
    "    field_value4 = row['to_y']\n",
    "    co_point2=Point(field_value3, field_value4)\n",
    "    return co_point2\n",
    "\n",
    "df['dest_points'] = df.apply(destination, axis=1)\n",
    "\n",
    "print(df.head(5))"
   ]
  },
  {
   "cell_type": "code",
   "execution_count": null,
   "metadata": {},
   "outputs": [],
   "source": []
  }
 ],
 "metadata": {
  "kernelspec": {
   "display_name": "Python 3",
   "language": "python",
   "name": "python3"
  },
  "language_info": {
   "codemirror_mode": {
    "name": "ipython",
    "version": 3
   },
   "file_extension": ".py",
   "mimetype": "text/x-python",
   "name": "python",
   "nbconvert_exporter": "python",
   "pygments_lexer": "ipython3",
   "version": "3.6.6"
  }
 },
 "nbformat": 4,
 "nbformat_minor": 2
}
