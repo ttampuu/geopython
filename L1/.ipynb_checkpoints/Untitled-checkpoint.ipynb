{
 "cells": [
  {
   "cell_type": "code",
   "execution_count": 29,
   "metadata": {},
   "outputs": [
    {
     "name": "stdout",
     "output_type": "stream",
     "text": [
      "1\n",
      "2\n",
      "3\n"
     ]
    }
   ],
   "source": [
    "from shapely.geometry import Point, LineString, Polygon\n",
    "\n",
    "def createLineGeom(list):\n",
    "    checked_points[]\n",
    "    for p in points_list:\n",
    "        if instance(p, Point):\n",
    "            checked_points.append(p)\n",
    "        else:\n",
    "            print(\"not point object\")\n",
    "        if len(checked_points) >= 2:\n",
    "            new_line=Linestring(checked_points)\n",
    "            return new_line\n",
    "        else:\n",
    "            print(\"not enougt points\")\n",
    "            return none\n",
    "    "
   ]
  },
  {
   "cell_type": "code",
   "execution_count": null,
   "metadata": {},
   "outputs": [],
   "source": [
    "from shapely.geometry import Polygon\n",
    "\n",
    "def createPointGeomd(input_list):\n",
    "    p_coord_list=[]\n",
    "    for elem in input_list:\n",
    "        if instance(elem, Point):\n",
    "           p_coord_list.append((elem.x)(elem.y))\n",
    "        elif instance(elem, Tuple):\n",
    "            p_coord_list.append((elem[0](elem[1]))\n",
    "        else:\n",
    "            print(\"elem {} is not P or T object\".format(str(elem)))\n",
    "    if len(p-coord_list) >= 3':\n",
    "        new_poly=Polygon(p-coord-list)\n",
    "        return(new_poly)\n",
    "        \n",
    "        \n",
    "    "
   ]
  },
  {
   "cell_type": "code",
   "execution_count": null,
   "metadata": {},
   "outputs": [],
   "source": [
    "def getCentroid(gem):\n",
    "    return geom.centroid\n",
    "\n",
    "point1_centroid = getCentroid(poin1)\n",
    "line1_centroid = getCentroid(line1)\n",
    "poly2_centroid = getCentroid(poly2)\n",
    "    "
   ]
  },
  {
   "cell_type": "code",
   "execution_count": null,
   "metadata": {},
   "outputs": [],
   "source": [
    "def getArea(test_poly):\n",
    "    if isinstance(test-poly, Polygon):\n",
    "        return test_poly.area\n",
    "    else:\n",
    "        print(\"no\")\n",
    "poly1_area=getArea(poly1)\n",
    "print(poly1_area)"
   ]
  },
  {
   "cell_type": "code",
   "execution_count": null,
   "metadata": {},
   "outputs": [],
   "source": [
    "def getLength(lenght):\n",
    "    if isinstance(lenght, Line) or isinstance(lenght, üpolygon):\n",
    "        return\n",
    "    "
   ]
  },
  {
   "cell_type": "code",
   "execution_count": 1,
   "metadata": {},
   "outputs": [
    {
     "name": "stdout",
     "output_type": "stream",
     "text": [
      "   from_id    to_id      fromid_toid  route_number     at     from_x  \\\n",
      "0  5861326  5785640  5861326_5785640             1  08:10  24.970438   \n",
      "1  5861326  5785641  5861326_5785641             1  08:10  24.970438   \n",
      "2  5861326  5785642  5861326_5785642             1  08:10  24.970438   \n",
      "3  5861326  5785643  5861326_5785643             1  08:10  24.970438   \n",
      "4  5861326  5787544  5861326_5787544             1  08:10  24.970438   \n",
      "\n",
      "      from_y       to_x       to_y  total_route_time  route_time  \\\n",
      "0  60.311917  24.856034  60.399941             125.0        99.0   \n",
      "1  60.311917  24.860568  60.400014             123.0       102.0   \n",
      "2  60.311917  24.865102  60.400086             125.0       103.0   \n",
      "3  60.311917  24.869636  60.400159             129.0       107.0   \n",
      "4  60.311917  24.842582  60.397478             118.0        92.0   \n",
      "\n",
      "   route_distance  route_total_lines  \n",
      "0         22917.6                2.0  \n",
      "1         23123.5                2.0  \n",
      "2         23241.3                2.0  \n",
      "3         23534.2                2.0  \n",
      "4         22428.2                2.0  \n"
     ]
    }
   ],
   "source": [
    "import pandas as pd\n",
    "df = pd.read_csv('travelTimes_2015_Helsinki.txt', sep=';', encoding='latin1')\n",
    "\n",
    "print(df.head(5))"
   ]
  },
  {
   "cell_type": "code",
   "execution_count": null,
   "metadata": {},
   "outputs": [],
   "source": [
    "print(df['lenghts'].mean())"
   ]
  }
 ],
 "metadata": {
  "kernelspec": {
   "display_name": "Python 3",
   "language": "python",
   "name": "python3"
  },
  "language_info": {
   "codemirror_mode": {
    "name": "ipython",
    "version": 3
   },
   "file_extension": ".py",
   "mimetype": "text/x-python",
   "name": "python",
   "nbconvert_exporter": "python",
   "pygments_lexer": "ipython3",
   "version": "3.6.6"
  }
 },
 "nbformat": 4,
 "nbformat_minor": 2
}
