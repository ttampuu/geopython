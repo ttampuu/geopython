{
 "cells": [
  {
   "cell_type": "code",
   "execution_count": 121,
   "metadata": {},
   "outputs": [
    {
     "data": {
      "image/svg+xml": [
       "<svg xmlns=\"http://www.w3.org/2000/svg\" xmlns:xlink=\"http://www.w3.org/1999/xlink\" width=\"100.0\" height=\"100.0\" viewBox=\"1.6 -4.4 4.800000000000001 10.8\" preserveAspectRatio=\"xMinYMin meet\"><g transform=\"matrix(1,0,0,-1,0,2.0)\"><polyline fill=\"none\" stroke=\"#66cc99\" stroke-width=\"0.21600000000000003\" points=\"2.0,-2.0 4.0,-4.0 6.0,6.0\" opacity=\"0.8\" /></g></svg>"
      ],
      "text/plain": [
       "<shapely.geometry.linestring.LineString at 0x23f296ffc50>"
      ]
     },
     "metadata": {},
     "output_type": "display_data"
    },
    {
     "name": "stdout",
     "output_type": "stream",
     "text": [
      "LINESTRING (2 -2, 4 -4, 6 6)\n",
      "Lenght of the line is 13.026466151931759\n"
     ]
    },
    {
     "data": {
      "image/svg+xml": [
       "<svg xmlns=\"http://www.w3.org/2000/svg\" xmlns:xlink=\"http://www.w3.org/1999/xlink\" width=\"100.0\" height=\"100.0\" viewBox=\"1.6 -4.4 4.800000000000001 10.8\" preserveAspectRatio=\"xMinYMin meet\"><g transform=\"matrix(1,0,0,-1,0,2.0)\"><path fill-rule=\"evenodd\" fill=\"#66cc99\" stroke=\"#555555\" stroke-width=\"0.21600000000000003\" opacity=\"0.6\" d=\"M 2.0,-2.0 L 4.0,-4.0 L 6.0,6.0 L 2.0,-2.0 z\" /></g></svg>"
      ],
      "text/plain": [
       "<shapely.geometry.polygon.Polygon at 0x23f296b9a58>"
      ]
     },
     "metadata": {},
     "output_type": "display_data"
    },
    {
     "name": "stdout",
     "output_type": "stream",
     "text": [
      "POLYGON ((2 -2, 4 -4, 6 6, 2 -2))\n",
      "Length of the exterior ring is 21.970738061930916\n"
     ]
    }
   ],
   "source": [
    "#excercise 2.3\n",
    "from shapely.geometry import Point, LineString, Polygon\n",
    "\n",
    "def getLength(input):\n",
    "    if isinstance(input, LineString):\n",
    "        display(input)\n",
    "        print(input)\n",
    "        l_length = input.length\n",
    "        print(\"Lenght of the line is \"+str(l_length))\n",
    "        return(l_length)\n",
    "    if isinstance(input, Polygon):        \n",
    "        display(input)\n",
    "        print(input)        \n",
    "        poly_ext = input.exterior\n",
    "        poly_ext_length = poly_ext.length\n",
    "        print(\"Length of the exterior ring is \"+str(poly_ext_length))\n",
    "        return(poly_ext_length)\n",
    "    else:\n",
    "        print(\"Error: LineString or Polygon geometries required!\")\n",
    "    \n",
    "#version I \n",
    "point1 = (2, -2)\n",
    "point2 = (4, -4)\n",
    "point3 = (6, 6)\n",
    "list = [point1, point2, point3]\n",
    "input = LineString(list) \n",
    "    \n",
    "getLength(input)\n",
    "\n",
    "#version II\n",
    "point1 = (2, -2)\n",
    "point2 = (4, -4)\n",
    "point3 = (6, 6)\n",
    "list = [point1, point2, point3]\n",
    "input = Polygon(list)\n",
    "\n",
    "getLength(input)\n",
    "\n",
    "#excercise 2.3\n",
    "from shapely.geometry import Point, LineString, Polygon\n",
    "point1 = (2, -2)\n",
    "point2 = (4, -4)\n",
    "point3 = (6, 6)\n",
    "list = [point1, point2, point3]"
   ]
  },
  {
   "cell_type": "code",
   "execution_count": 75,
   "metadata": {},
   "outputs": [
    {
     "name": "stdout",
     "output_type": "stream",
     "text": [
      "True\n",
      "True\n",
      "False\n"
     ]
    }
   ],
   "source": [
    "point1 = (2, -2)\n",
    "point2 = (4, -4)\n",
    "point3 = (6, 6)\n",
    "list = [point1, point2, point3]\n",
    "line = LineString(list)\n",
    "poly = Polygon(list)\n",
    "\n",
    "a=isinstance(line, LineString)\n",
    "print(a)\n",
    "b=isinstance(poly, Polygon)\n",
    "print(b)\n",
    "c=isinstance(line, Polygon)\n",
    "print(c)\n"
   ]
  },
  {
   "cell_type": "code",
   "execution_count": 76,
   "metadata": {},
   "outputs": [
    {
     "name": "stdout",
     "output_type": "stream",
     "text": [
      "POINT (4 -0)\n"
     ]
    },
    {
     "data": {
      "image/svg+xml": [
       "<svg xmlns=\"http://www.w3.org/2000/svg\" xmlns:xlink=\"http://www.w3.org/1999/xlink\" width=\"100.0\" height=\"100.0\" viewBox=\"1.6 -4.4 4.800000000000001 10.8\" preserveAspectRatio=\"xMinYMin meet\"><g transform=\"matrix(1,0,0,-1,0,2.0)\"><path fill-rule=\"evenodd\" fill=\"#66cc99\" stroke=\"#555555\" stroke-width=\"0.21600000000000003\" opacity=\"0.6\" d=\"M 2.0,-2.0 L 4.0,-4.0 L 6.0,6.0 L 2.0,-2.0 z\" /></g></svg>"
      ],
      "text/plain": [
       "<shapely.geometry.polygon.Polygon at 0x23f296dac18>"
      ]
     },
     "metadata": {},
     "output_type": "display_data"
    },
    {
     "name": "stdout",
     "output_type": "stream",
     "text": [
      "POINT (4 -0)\n"
     ]
    },
    {
     "data": {
      "image/svg+xml": [
       "<svg xmlns=\"http://www.w3.org/2000/svg\" xmlns:xlink=\"http://www.w3.org/1999/xlink\" width=\"100.0\" height=\"100.0\" viewBox=\"1.6 -4.4 4.800000000000001 10.8\" preserveAspectRatio=\"xMinYMin meet\"><g transform=\"matrix(1,0,0,-1,0,2.0)\"><path fill-rule=\"evenodd\" fill=\"#66cc99\" stroke=\"#555555\" stroke-width=\"0.21600000000000003\" opacity=\"0.6\" d=\"M 2.0,-2.0 L 4.0,-4.0 L 6.0,6.0 L 2.0,-2.0 z\" /></g></svg>"
      ],
      "text/plain": [
       "<shapely.geometry.polygon.Polygon at 0x23f296b9160>"
      ]
     },
     "metadata": {},
     "output_type": "display_data"
    },
    {
     "data": {
      "image/svg+xml": [
       "<svg xmlns=\"http://www.w3.org/2000/svg\" xmlns:xlink=\"http://www.w3.org/1999/xlink\" width=\"100.0\" height=\"100.0\" viewBox=\"3.0 -1.0 2.0 2.0\" preserveAspectRatio=\"xMinYMin meet\"><g transform=\"matrix(1,0,0,-1,0,0.0)\"><circle cx=\"4.0\" cy=\"-0.0\" r=\"0.06\" stroke=\"#555555\" stroke-width=\"0.02\" fill=\"#66cc99\" opacity=\"0.6\" /></g></svg>"
      ],
      "text/plain": [
       "<shapely.geometry.point.Point at 0x23f2818fac8>"
      ]
     },
     "execution_count": 76,
     "metadata": {},
     "output_type": "execute_result"
    }
   ],
   "source": []
  },
  {
   "cell_type": "code",
   "execution_count": 68,
   "metadata": {},
   "outputs": [
    {
     "name": "stdout",
     "output_type": "stream",
     "text": [
      "POINT (4 -0)\n",
      "POINT (4.565741454089335 0.1314829081786701)\n"
     ]
    }
   ],
   "source": []
  },
  {
   "cell_type": "code",
   "execution_count": null,
   "metadata": {},
   "outputs": [],
   "source": []
  }
 ],
 "metadata": {
  "kernelspec": {
   "display_name": "Python 3",
   "language": "python",
   "name": "python3"
  },
  "language_info": {
   "codemirror_mode": {
    "name": "ipython",
    "version": 3
   },
   "file_extension": ".py",
   "mimetype": "text/x-python",
   "name": "python",
   "nbconvert_exporter": "python",
   "pygments_lexer": "ipython3",
   "version": "3.6.6"
  }
 },
 "nbformat": 4,
 "nbformat_minor": 2
}
