{
 "cells": [
  {
   "cell_type": "code",
   "execution_count": 1,
   "metadata": {},
   "outputs": [],
   "source": [
    "from shapely.geometry import Point, LineString, Polygon"
   ]
  },
  {
   "cell_type": "code",
   "execution_count": 2,
   "metadata": {},
   "outputs": [],
   "source": [
    "point1 = Point(2.2, 4.2)"
   ]
  },
  {
   "cell_type": "code",
   "execution_count": 3,
   "metadata": {},
   "outputs": [],
   "source": [
    "point2 = Point(7.2, -25.1)\n",
    "\n",
    "point3 = Point(9.26, -2.456)\n",
    "\n",
    "point3D = Point(9.26, -2.456, 0.57)"
   ]
  },
  {
   "cell_type": "code",
   "execution_count": 4,
   "metadata": {},
   "outputs": [],
   "source": [
    "point_type = type(point1)"
   ]
  },
  {
   "cell_type": "code",
   "execution_count": 17,
   "metadata": {},
   "outputs": [
    {
     "data": {
      "image/svg+xml": [
       "<svg xmlns=\"http://www.w3.org/2000/svg\" xmlns:xlink=\"http://www.w3.org/1999/xlink\" width=\"100.0\" height=\"100.0\" viewBox=\"6.2 -26.1 1.9999999999999991 2.0\" preserveAspectRatio=\"xMinYMin meet\"><g transform=\"matrix(1,0,0,-1,0,-50.2)\"><circle cx=\"7.2\" cy=\"-25.1\" r=\"0.06\" stroke=\"#555555\" stroke-width=\"0.02\" fill=\"#66cc99\" opacity=\"0.6\" /></g></svg>"
      ],
      "text/plain": [
       "<shapely.geometry.point.Point at 0x18f25de7400>"
      ]
     },
     "metadata": {},
     "output_type": "display_data"
    },
    {
     "name": "stdout",
     "output_type": "stream",
     "text": [
      "POINT (2.2 4.2)\n",
      "POINT Z (9.26 -2.456 0.57)\n",
      "<class 'shapely.geometry.point.Point'>\n"
     ]
    }
   ],
   "source": [
    "from shapely.geometry import Point, LineString, Polygon\n",
    "\n",
    "point2 = Point(7.2, -25.1)\n",
    "\n",
    "point_type = type(point2)\n",
    "\n",
    "display(point2)\n",
    "\n",
    "print(point1)\n",
    "\n",
    "print(point3D)\n",
    "\n",
    "print(type(point1))\n"
   ]
  },
  {
   "cell_type": "code",
   "execution_count": 16,
   "metadata": {},
   "outputs": [
    {
     "name": "stdout",
     "output_type": "stream",
     "text": [
      "<class 'shapely.geometry.point.Point'>\n",
      "POINT (2.2 4.2)\n"
     ]
    }
   ],
   "source": [
    "from shapely.geometry import Point, LineString, Polygon\n",
    "\n",
    "point2 = Point(7.2, -25.1)\n",
    "\n",
    "point_type = type(point2)\n",
    "\n",
    "print(point_type)\n",
    "\n",
    "print(point1)"
   ]
  },
  {
   "cell_type": "code",
   "execution_count": 18,
   "metadata": {},
   "outputs": [
    {
     "data": {
      "text/plain": [
       "shapely.coords.CoordinateSequence"
      ]
     },
     "execution_count": 18,
     "metadata": {},
     "output_type": "execute_result"
    }
   ],
   "source": [
    "point_coords = point1.coords\n",
    "\n",
    "# What is the type of this?\n",
    "type(point_coords)"
   ]
  },
  {
   "cell_type": "code",
   "execution_count": 19,
   "metadata": {},
   "outputs": [],
   "source": [
    "# Get x and y coordinates\n",
    "xy = point_coords.xy\n",
    "\n",
    "# Get only x coordinates of Point1\n",
    "x = point1.x\n",
    "\n",
    "# Whatabout y coordinate?\n",
    "y = point1.y"
   ]
  },
  {
   "cell_type": "code",
   "execution_count": 20,
   "metadata": {},
   "outputs": [
    {
     "name": "stdout",
     "output_type": "stream",
     "text": [
      "(array('d', [2.2]), array('d', [4.2]))\n",
      "2.2\n",
      "4.2\n"
     ]
    }
   ],
   "source": [
    "print(xy)\n",
    "print(x)\n",
    "print(y)"
   ]
  },
  {
   "cell_type": "code",
   "execution_count": 23,
   "metadata": {},
   "outputs": [
    {
     "name": "stdout",
     "output_type": "stream",
     "text": [
      "22.737509450245426\n"
     ]
    }
   ],
   "source": [
    "point_dist = point2.distance(point3)\n",
    "print(point_dist)"
   ]
  },
  {
   "cell_type": "code",
   "execution_count": 25,
   "metadata": {},
   "outputs": [
    {
     "name": "stdout",
     "output_type": "stream",
     "text": [
      "2515.2909 for ellipsoid WGS84 in km\n"
     ]
    }
   ],
   "source": [
    "import pyproj\n",
    "\n",
    "geod = pyproj.Geod(ellps='WGS84')\n",
    "\n",
    "angle1,angle2,distance = geod.inv(point2.x, point2.y, point3.x, point3.y)\n",
    "\n",
    "print (\"{0:8.4f} for ellipsoid WGS84 in km\".format(distance/1000))"
   ]
  },
  {
   "cell_type": "code",
   "execution_count": 27,
   "metadata": {},
   "outputs": [
    {
     "name": "stdout",
     "output_type": "stream",
     "text": [
      "LINESTRING (2.2 4.2, 7.2 -25.1, 9.26 -2.456)\n",
      "LINESTRING (2.2 4.2, 7.2 -25.1, 9.26 -2.456)\n"
     ]
    },
    {
     "data": {
      "text/plain": [
       "(None, None, shapely.geometry.linestring.LineString)"
      ]
     },
     "execution_count": 27,
     "metadata": {},
     "output_type": "execute_result"
    }
   ],
   "source": [
    "# Create a LineString from our Point objects\n",
    "line = LineString([point1, point2, point3])\n",
    "\n",
    "# It is also possible to use coordinate tuples having the same outcome\n",
    "line2 = LineString([(2.2, 4.2), (7.2, -25.1), (9.26, -2.456)])\n",
    "\n",
    "print(line), print(line2), type(line)\n"
   ]
  },
  {
   "cell_type": "code",
   "execution_count": 41,
   "metadata": {},
   "outputs": [
    {
     "data": {
      "image/svg+xml": [
       "<svg xmlns=\"http://www.w3.org/2000/svg\" xmlns:xlink=\"http://www.w3.org/1999/xlink\" width=\"100.0\" height=\"100.0\" viewBox=\"1.028 -26.272000000000002 9.404 31.644000000000002\" preserveAspectRatio=\"xMinYMin meet\"><g transform=\"matrix(1,0,0,-1,0,-20.900000000000002)\"><polyline fill=\"none\" stroke=\"#66cc99\" stroke-width=\"0.63288\" points=\"2.2,4.2 7.2,-25.1 9.26,-2.456\" opacity=\"0.8\" /></g></svg>"
      ],
      "text/plain": [
       "<shapely.geometry.linestring.LineString at 0x18f25dee7b8>"
      ]
     },
     "metadata": {},
     "output_type": "display_data"
    },
    {
     "name": "stdout",
     "output_type": "stream",
     "text": [
      "POINT (6.229961354035622 -11.89241115757239)\n",
      "52.46106912939557\n",
      "LINESTRING (2.2 4.2, 7.2 -25.1, 9.26 -2.456)\n"
     ]
    }
   ],
   "source": [
    "point_list=[point1, point2, point3]\n",
    "new_line=LineString(point_list)\n",
    "display(new_line)\n",
    "l_length = line.length\n",
    "l_centroid = line.centroid\n",
    "print(l_centroid)\n",
    "print(l_length)\n",
    "print(new_line)"
   ]
  },
  {
   "cell_type": "code",
   "execution_count": 44,
   "metadata": {},
   "outputs": [
    {
     "name": "stdout",
     "output_type": "stream",
     "text": [
      "POLYGON ((2.2 4.2, 7.2 -25.1, 9.26 -2.456, 2.2 4.2))\n",
      "POLYGON ((2.2 4.2, 7.2 -25.1, 9.26 -2.456, 2.2 4.2))\n",
      "Geometry type as text: Polygon\n",
      "Geometry how Python shows it: <class 'shapely.geometry.polygon.Polygon'>\n"
     ]
    },
    {
     "data": {
      "image/svg+xml": [
       "<svg xmlns=\"http://www.w3.org/2000/svg\" xmlns:xlink=\"http://www.w3.org/1999/xlink\" width=\"100.0\" height=\"100.0\" viewBox=\"1.028 -26.272000000000002 9.404 31.644000000000002\" preserveAspectRatio=\"xMinYMin meet\"><g transform=\"matrix(1,0,0,-1,0,-20.900000000000002)\"><path fill-rule=\"evenodd\" fill=\"#66cc99\" stroke=\"#555555\" stroke-width=\"0.63288\" opacity=\"0.6\" d=\"M 2.2,4.2 L 7.2,-25.1 L 9.26,-2.456 L 2.2,4.2 z\" /></g></svg>"
      ],
      "text/plain": [
       "<shapely.geometry.polygon.Polygon at 0x18f25e15550>"
      ]
     },
     "metadata": {},
     "output_type": "display_data"
    },
    {
     "data": {
      "image/svg+xml": [
       "<svg xmlns=\"http://www.w3.org/2000/svg\" xmlns:xlink=\"http://www.w3.org/1999/xlink\" width=\"100.0\" height=\"100.0\" viewBox=\"5.22 -8.785333333333334 2.0 2.0\" preserveAspectRatio=\"xMinYMin meet\"><g transform=\"matrix(1,0,0,-1,0,-15.570666666666668)\"><circle cx=\"6.22\" cy=\"-7.785333333333334\" r=\"0.06\" stroke=\"#555555\" stroke-width=\"0.02\" fill=\"#66cc99\" opacity=\"0.6\" /></g></svg>"
      ],
      "text/plain": [
       "<shapely.geometry.point.Point at 0x18f25de7358>"
      ]
     },
     "metadata": {},
     "output_type": "display_data"
    },
    {
     "data": {
      "text/plain": [
       "86.78900000000002"
      ]
     },
     "metadata": {},
     "output_type": "display_data"
    }
   ],
   "source": [
    "# Create a Polygon from the coordinates\n",
    "poly = Polygon([(2.2, 4.2), (7.2, -25.1), (9.26, -2.456)])\n",
    "\n",
    "# We can also use our previously created Point objects (same outcome)\n",
    "# --> notice that Polygon object requires x,y coordinates as input\n",
    "poly2 = Polygon([[p.x, p.y] for p in [point1, point2, point3]])\n",
    "\n",
    "# Geometry type can be accessed as a String\n",
    "poly_type = poly.geom_type\n",
    "\n",
    "# Using the Python's type function gives the type in a different format\n",
    "poly_type2 = type(poly)\n",
    "\n",
    "# Let's see how our Polygon looks like\n",
    "print(poly)\n",
    "print(poly2)\n",
    "print(\"Geometry type as text:\", poly_type)\n",
    "print(\"Geometry how Python shows it:\", poly_type2)\n",
    "display(poly)\n",
    "display(poly.centroid)\n",
    "display(poly.area)\n"
   ]
  },
  {
   "cell_type": "code",
   "execution_count": 78,
   "metadata": {},
   "outputs": [
    {
     "name": "stdout",
     "output_type": "stream",
     "text": [
      "[]\n"
     ]
    }
   ],
   "source": [
    "point1 = Point(2.2, 4.2)\n",
    "point2 = Point(7.2, -25.1)\n",
    "point3 = Point(9.26, -2.456)\n",
    "\n",
    "p_list=[point1, point2, point3]\n",
    "prep_list=[]\n",
    "for po in p_list:\n",
    "    prep_list.append\n",
    "print(prep_list)"
   ]
  },
  {
   "cell_type": "code",
   "execution_count": 59,
   "metadata": {},
   "outputs": [
    {
     "data": {
      "image/svg+xml": [
       "<svg xmlns=\"http://www.w3.org/2000/svg\" xmlns:xlink=\"http://www.w3.org/1999/xlink\" width=\"300\" height=\"208.8\" viewBox=\"-194.4 -104.4 388.8 208.8\" preserveAspectRatio=\"xMinYMin meet\"><g transform=\"matrix(1,0,0,-1,0,0.0)\"><path fill-rule=\"evenodd\" fill=\"#66cc99\" stroke=\"#555555\" stroke-width=\"2.592\" opacity=\"0.6\" d=\"M -180.0,90.0 L -180.0,-90.0 L 180.0,-90.0 L 180.0,90.0 L -180.0,90.0 z M -30.0,30.0 L -17.0,-20.0 L 17.0,-30.0 L 5.0,30.0 L -30.0,30.0 z\" /></g></svg>"
      ],
      "text/plain": [
       "<shapely.geometry.polygon.Polygon at 0x18f25e15cc0>"
      ]
     },
     "metadata": {},
     "output_type": "display_data"
    }
   ],
   "source": [
    "# Let's create a bounding box of the world and make a whole in it\n",
    "# First we define our exterior\n",
    "world_exterior = [(-180, 90), (-180, -90), (180, -90), (180, 90)]\n",
    "\n",
    "# Let's create a single big hole where we leave ten decimal degrees at the boundaries of the world\n",
    "# Notice: there could be multiple holes, thus we need to provide a list of holes\n",
    "hole = [[(-130, 80), (-170, -30), (170, -80), (10, 80)]]\n",
    "hole2 = [[(-30, 30), (-17, -20), (17, -30), (5, 30)]]\n",
    "\n",
    "# World without a hole\n",
    "world = Polygon(shell=world_exterior)\n",
    "\n",
    "# Now we can construct our Polygon with the hole inside\n",
    "world_has_a_hole = Polygon(shell=world_exterior, holes=hole2)\n",
    "display(world_has_a_hole)"
   ]
  },
  {
   "cell_type": "code",
   "execution_count": 61,
   "metadata": {},
   "outputs": [
    {
     "name": "stdout",
     "output_type": "stream",
     "text": [
      "POINT (-0 -0)\n",
      "64800.0\n",
      "(-180.0, -90.0, 180.0, 90.0)\n",
      "LINEARRING (-180 90, -180 -90, 180 -90, 180 90, -180 90)\n",
      "1080.0\n"
     ]
    }
   ],
   "source": [
    "# Get the centroid of the Polygon\n",
    "world_centroid = world.centroid\n",
    "print(world_centroid)\n",
    "\n",
    "# Get the area of the Polygon\n",
    "world_area = world.area\n",
    "print(world_area)\n",
    "# Get the bounds of the Polygon (i.e. bounding box)\n",
    "world_bbox = world.bounds\n",
    "print(world_bbox)\n",
    "# Get the exterior of the Polygon\n",
    "world_ext = world.exterior\n",
    "print(world_ext)\n",
    "# Get the length of the exterior\n",
    "world_ext_length = world_ext.length\n",
    "print(world_ext_length)"
   ]
  },
  {
   "cell_type": "code",
   "execution_count": 69,
   "metadata": {},
   "outputs": [
    {
     "name": "stdout",
     "output_type": "stream",
     "text": [
      "  Country or area Urban Agglomeration   Latitude   Longitude  Population_2015  \\\n",
      "0           Japan               Tokyo  35.689500  139.691710         38001018   \n",
      "1           India               Delhi  28.666670   77.216670         25703168   \n",
      "2           China            Shanghai  31.220000  121.460000         23740778   \n",
      "3          Brazil           S?o Paulo -23.550000  -46.640000         21066245   \n",
      "4           India     Mumbai (Bombay)  19.073975   72.880838         21042538   \n",
      "\n",
      "   Unnamed: 5  \n",
      "0         NaN  \n",
      "1         NaN  \n",
      "2         NaN  \n",
      "3         NaN  \n",
      "4         NaN  \n"
     ]
    }
   ],
   "source": [
    "\n",
    "import pandas as pd\n",
    "# make sure you have the correct path to your working file, ideally in the same folder\n",
    "df = pd.read_csv('global-city-population-estimates.csv', sep=';', encoding='latin1')\n",
    "\n",
    "# this option tells pandas to print up to 20 columns, typically a the print function will cut the output for better visibility\n",
    "# (depending on the size and dimension of the dataframe)\n",
    "pd.set_option('max_columns',20)\n",
    "\n",
    "print(df.head(5))"
   ]
  },
  {
   "cell_type": "code",
   "execution_count": 68,
   "metadata": {},
   "outputs": [
    {
     "name": "stdout",
     "output_type": "stream",
     "text": [
      "  Country or area Urban Agglomeration   Latitude   Longitude  Population_2015  \\\n",
      "0           Japan               Tokyo  35.689500  139.691710         38001018   \n",
      "1           India               Delhi  28.666670   77.216670         25703168   \n",
      "2           China            Shanghai  31.220000  121.460000         23740778   \n",
      "3          Brazil           S?o Paulo -23.550000  -46.640000         21066245   \n",
      "4           India     Mumbai (Bombay)  19.073975   72.880838         21042538   \n",
      "\n",
      "   Unnamed: 5  \n",
      "0         NaN  \n",
      "1         NaN  \n",
      "2         NaN  \n",
      "3         NaN  \n",
      "4         NaN  \n"
     ]
    }
   ],
   "source": [
    "import pandas as pd\n",
    "\n",
    "df = pd.read_csv('global-city-population-estimates.csv', sep=';', encoding='latin1')\n",
    "print(df.head(5))\n",
    "\n"
   ]
  },
  {
   "cell_type": "code",
   "execution_count": 72,
   "metadata": {},
   "outputs": [
    {
     "name": "stdout",
     "output_type": "stream",
     "text": [
      "  Country or area Urban Agglomeration   Latitude   Longitude  Population_2015  \\\n",
      "0           Japan               Tokyo  35.689500  139.691710         38001018   \n",
      "1           India               Delhi  28.666670   77.216670         25703168   \n",
      "2           China            Shanghai  31.220000  121.460000         23740778   \n",
      "3          Brazil           S?o Paulo -23.550000  -46.640000         21066245   \n",
      "4           India     Mumbai (Bombay)  19.073975   72.880838         21042538   \n",
      "\n",
      "   Unnamed: 5                              points  \n",
      "0         NaN           POINT (139.69171 35.6895)  \n",
      "1         NaN  POINT (77.21666999999999 28.66667)  \n",
      "2         NaN                POINT (121.46 31.22)  \n",
      "3         NaN               POINT (-46.64 -23.55)  \n",
      "4         NaN         POINT (72.880838 19.073975)  \n"
     ]
    }
   ],
   "source": [
    "def make_point(row):\n",
    "    return Point(row['Longitude'], row['Latitude'])\n",
    "\n",
    "# Go through every row, and make a point out of its lat and lon, by **apply**ing the function from above (downwards row by row -> axis=1)\n",
    "df['points'] = df.apply(make_point, axis=1)\n",
    "print(df.head(5))"
   ]
  },
  {
   "cell_type": "code",
   "execution_count": 76,
   "metadata": {},
   "outputs": [
    {
     "name": "stdout",
     "output_type": "stream",
     "text": [
      "  Country or area Urban Agglomeration   Latitude   Longitude  Population_2015  \\\n",
      "0           Japan               Tokyo  35.689500  139.691710         38001018   \n",
      "1           India               Delhi  28.666670   77.216670         25703168   \n",
      "2           China            Shanghai  31.220000  121.460000         23740778   \n",
      "3          Brazil           S?o Paulo -23.550000  -46.640000         21066245   \n",
      "4           India     Mumbai (Bombay)  19.073975   72.880838         21042538   \n",
      "\n",
      "   Unnamed: 5                              points  \\\n",
      "0         NaN           POINT (139.69171 35.6895)   \n",
      "1         NaN  POINT (77.21666999999999 28.66667)   \n",
      "2         NaN                POINT (121.46 31.22)   \n",
      "3         NaN               POINT (-46.64 -23.55)   \n",
      "4         NaN         POINT (72.880838 19.073975)   \n",
      "\n",
      "                              points2  \n",
      "0           POINT (139.69171 35.6895)  \n",
      "1  POINT (77.21666999999999 28.66667)  \n",
      "2                POINT (121.46 31.22)  \n",
      "3               POINT (-46.64 -23.55)  \n",
      "4         POINT (72.880838 19.073975)  \n"
     ]
    }
   ],
   "source": [
    "def make_point2(row):\n",
    "    x_val=row['Longitude']\n",
    "    y_val=row['Latitude']\n",
    "    newpoint=Point(x_val, y_val) #Point is a inbuilt function to make point\n",
    "    return newpoint\n",
    "\n",
    "df['points2'] = df.apply(make_point2, axis=1)\n",
    "\n",
    "print(df.head(5))\n"
   ]
  },
  {
   "cell_type": "code",
   "execution_count": null,
   "metadata": {},
   "outputs": [],
   "source": []
  }
 ],
 "metadata": {
  "kernelspec": {
   "display_name": "Python 3",
   "language": "python",
   "name": "python3"
  },
  "language_info": {
   "codemirror_mode": {
    "name": "ipython",
    "version": 3
   },
   "file_extension": ".py",
   "mimetype": "text/x-python",
   "name": "python",
   "nbconvert_exporter": "python",
   "pygments_lexer": "ipython3",
   "version": "3.6.6"
  }
 },
 "nbformat": 4,
 "nbformat_minor": 2
}
